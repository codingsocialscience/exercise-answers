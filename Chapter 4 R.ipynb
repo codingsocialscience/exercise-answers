{
 "cells": [
  {
   "cell_type": "code",
   "execution_count": null,
   "metadata": {},
   "outputs": [],
   "source": [
    "## 4.8\n",
    "\n",
    "degree <- 0 ## gatherer for degree\n",
    "node_interested <- 'A'\n",
    "\n",
    "data <- read.csv('network.txt', header = FALSE, sep = '-')\n",
    "\n",
    "for( rn in 1:nrow(data) ) {\n",
    "    \n",
    "    if( data[rn, 1] == node_interested || data[rn, 2 ] == node_interested ) {\n",
    "        degree <- degree + 1\n",
    "    }\n",
    "    \n",
    "}\n",
    "        \n",
    "print( paste( 'Degree for', node_interested, 'is', degree ) )"
   ]
  },
  {
   "cell_type": "code",
   "execution_count": null,
   "metadata": {},
   "outputs": [],
   "source": [
    "## 4.9\n",
    "\n",
    "in_degree <- 0 ## gatherer for degrees\n",
    "out_degree <- 0\n",
    "node_interested <- 'A'\n",
    "\n",
    "\n",
    "data <- read.csv('directed_network.txt', header = FALSE )\n",
    "\n",
    "for( rn in 1:nrow(data) ) {\n",
    "    \n",
    "    line <- data[rn, 1]\n",
    "    line <- strsplit( line, \"->\" )[[1]]\n",
    "    \n",
    "    if( line[1] == node_interested  ) {\n",
    "        out_degree <- out_degree + 1\n",
    "    }\n",
    "    \n",
    "    if( line[2] == node_interested ) {\n",
    "        in_degree <- in_degree + 1\n",
    "    }\n",
    "    \n",
    "}  \n",
    "        \n",
    "print( paste( 'Out degree for', node_interested, 'is', out_degree ) )\n",
    "print( paste( 'In degree for', node_interested, 'is', in_degree ) )"
   ]
  },
  {
   "cell_type": "code",
   "execution_count": null,
   "metadata": {},
   "outputs": [],
   "source": [
    "## 4.10\n",
    "\n",
    "## key observation: degree is actually the column sum on the matrix\n",
    "\n",
    "degree <- 0 ## gatherer\n",
    "node_interested <- 1 ## this is the index location of the colum we are interested in\n",
    "\n",
    "data <- read.csv('adjacency_matrix.txt', header = FALSE )\n",
    "\n",
    "for( rn in 1:nrow(data) ) {\n",
    "    degree <- degree + data[ rn, node_interested ]\n",
    "}\n",
    "\n",
    "print( degree )"
   ]
  },
  {
   "cell_type": "code",
   "execution_count": null,
   "metadata": {},
   "outputs": [],
   "source": []
  }
 ],
 "metadata": {
  "kernelspec": {
   "display_name": "R",
   "language": "R",
   "name": "ir"
  },
  "language_info": {
   "codemirror_mode": "r",
   "file_extension": ".r",
   "mimetype": "text/x-r-source",
   "name": "R",
   "pygments_lexer": "r"
  }
 },
 "nbformat": 4,
 "nbformat_minor": 4
}
