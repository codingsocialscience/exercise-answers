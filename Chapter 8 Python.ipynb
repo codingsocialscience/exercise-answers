{
 "cells": [
  {
   "cell_type": "code",
   "execution_count": null,
   "metadata": {},
   "outputs": [],
   "source": [
    "## 8.1\n",
    "\n",
    "def fancy_print( text ):\n",
    "    print(\"*****\")\n",
    "    print( text )\n",
    "    print(\"*****\")\n",
    "    \n",
    "fancy_print(\"Testing my fancy_print function\")"
   ]
  },
  {
   "cell_type": "code",
   "execution_count": null,
   "metadata": {},
   "outputs": [],
   "source": [
    "## 8.2\n",
    "\n",
    "def my_function( number ):\n",
    "    return 2 * number\n",
    "\n",
    "print( my_function(3) )"
   ]
  },
  {
   "cell_type": "code",
   "execution_count": null,
   "metadata": {},
   "outputs": [],
   "source": [
    "## 8.3\n",
    "\n",
    "def largest_item( list_of_things ):\n",
    "    largest = -1\n",
    "    for item in list_of_things:\n",
    "        if item > largest:\n",
    "            largest = item\n",
    "    return largest\n",
    "\n",
    "print( largest_item( [1, 5, 4, 9, 14, 2 ] ) )"
   ]
  },
  {
   "cell_type": "code",
   "execution_count": null,
   "metadata": {},
   "outputs": [],
   "source": [
    "## 8.4\n",
    "\n",
    "def mathematics( x, y ):\n",
    "    if x > y:\n",
    "        return x * y - y\n",
    "    else:\n",
    "        return 2 * y - x"
   ]
  },
  {
   "cell_type": "code",
   "execution_count": null,
   "metadata": {},
   "outputs": [],
   "source": [
    "## 8.5\n",
    "\n",
    "def is_leap_year( year ):\n",
    "    if year % 100 == 0:\n",
    "        if year % 400 == 0: ## if it is divisible by 100, it is a leap year only if it can also be divided by 400.\n",
    "            return True\n",
    "        else:\n",
    "            return False\n",
    "    else:\n",
    "        if year % 4 == 0: ## A year is a leap year if it can be divided by 4.\n",
    "            return True\n",
    "        else:\n",
    "            return False"
   ]
  },
  {
   "cell_type": "code",
   "execution_count": null,
   "metadata": {},
   "outputs": [],
   "source": [
    "## 8.6\n",
    "\n",
    "## is_leap_year is defined in 8.5\n",
    "\n",
    "def number_of_days( year1, year2 ):\n",
    "    total_days = 0\n",
    "    for year in range( year1, year2 ):\n",
    "        if is_leap_year( year ):\n",
    "            total_days = total_days + 366\n",
    "        else:\n",
    "            total_days = total_days + 365\n",
    "    return total_days"
   ]
  },
  {
   "cell_type": "code",
   "execution_count": null,
   "metadata": {},
   "outputs": [],
   "source": [
    "print( number_of_days(2023, 2024) )\n",
    "print( number_of_days(2023, 2030) )"
   ]
  },
  {
   "cell_type": "code",
   "execution_count": null,
   "metadata": {},
   "outputs": [],
   "source": [
    "## 8.7\n",
    "\n",
    "import networkx\n",
    "\n",
    "graph = networkx.read_edgelist(\"edgelist.txt\")\n",
    "print( graph.degree() )"
   ]
  },
  {
   "cell_type": "code",
   "execution_count": null,
   "metadata": {},
   "outputs": [],
   "source": [
    "## 8.8\n",
    "\n",
    "## This is an R-only exercise"
   ]
  },
  {
   "cell_type": "markdown",
   "metadata": {},
   "source": [
    "8.9\n",
    "\n",
    "- when factorial is set a 0 in the begining, the result is 0 (0 times anything is still zero)\n",
    "- the calculation factorial * current is not stored to any variable, thus the current stored in factorial does not work\n",
    "- printing factorial within the for-loop prints it many times"
   ]
  },
  {
   "cell_type": "markdown",
   "metadata": {},
   "source": [
    "8.10\n",
    "\n",
    "- the statement current = current + 1 does not make any sense and should be removed\n",
    "- the sum variable should increase the sum variable, not reset it - i.e. it should be sum = sum + current"
   ]
  },
  {
   "cell_type": "code",
   "execution_count": null,
   "metadata": {},
   "outputs": [],
   "source": [
    "## 8.12\n",
    "\n",
    "## define known leap years between 1900 and 2022\n",
    "\n",
    "leap_years = [1904, 1908, 1912, 1916, 1920, 1924, 1928, 1932, 1936, 1940, 1944, 1948, 1952, 1956, 1960, 1964, 1968, 1972, 1976, 1980, 1984, 1988, 1992, 1996, 2000, 2004, 2008, 2012, 2016, 2020]\n",
    "\n",
    "for potential_leap_year in leap_years:\n",
    "    if is_leap_year ( potential_leap_year ) == False:\n",
    "        print(\"Is leap year is not working correctly\")\n",
    "        \n",
    "for year in range(1900, 2023):\n",
    "    if year not in leap_years:\n",
    "        if is_leap_year( year ) == True:\n",
    "            print(\"Is leap year is not working correcty\")\n",
    "            \n",
    "print(\"If nothing printed above, is leap year correctly identified leap years and not-leap-years between 1900 and 2022\")"
   ]
  },
  {
   "cell_type": "code",
   "execution_count": null,
   "metadata": {},
   "outputs": [],
   "source": [
    "## 8.13\n",
    "\n",
    "def tax_rate( income, children ):\n",
    "    taxes = 0.2 * income\n",
    "    taxes = taxes - 10 * children\n",
    "    if taxes < 0:\n",
    "        taxes = 10\n",
    "    return taxes\n",
    "\n",
    "def tax_rate( income, children ):\n",
    "    taxes = 0.2 * income\n",
    "    if children > 0:\n",
    "        taxes = 2/3 * taxes\n",
    "    return taxes"
   ]
  },
  {
   "cell_type": "code",
   "execution_count": null,
   "metadata": {},
   "outputs": [],
   "source": [
    "## 8.14\n",
    "\n",
    "stockA = [100]\n",
    "stockB = [100]\n",
    "\n",
    "def inflowA( stockA, stockB ):\n",
    "    increaseA = 0.05\n",
    "    increaseA_B = 0.05\n",
    "    return increaseA * stockA[-1] + increaseA_B * stockB[-1]\n",
    "\n",
    "def outflowA( stockA, stockB ): ## while this does not use stockB, it might be better to make the function so that in case we use it, it is there\n",
    "    decreaseA = 0.05\n",
    "    return decreaseA * stockA[-1]\n",
    "\n",
    "def inflowB( stockA, stockB ):\n",
    "    increaseB = 0.05\n",
    "    increaseB_A = 0.05\n",
    "    return increaseB * stockB[-1] + increaseB_A * stockA[-1]\n",
    "\n",
    "def outflowB( stockA, stockB ):\n",
    "    decreaseB = 0.05\n",
    "    return decreaseB * stockB[-1]\n",
    "\n",
    "for i in range(0, 50):\n",
    "    changeA = inflowA( stockA, stockB ) - outflowA( stockA, stockB )\n",
    "    stockA.append( stockA[-1] + changeA )\n",
    "    \n",
    "    changeB = inflowB( stockA, stockB ) - outflowB( stockA, stockB )\n",
    "    stockB.append( stockB[-1] + changeB )\n",
    "    \n",
    "print( stockA )\n",
    "print( stockB )"
   ]
  },
  {
   "cell_type": "code",
   "execution_count": null,
   "metadata": {},
   "outputs": [],
   "source": [
    "## 8.16\n",
    "\n",
    "def sum( list_of_things ):\n",
    "    sum = 0\n",
    "    for thing in list_of_things:\n",
    "        sum = sum + thing\n",
    "    return sum\n",
    "\n",
    "def mean( list_of_things ):\n",
    "    return sum( list_of_things ) / len( list_of_things )\n",
    "\n",
    "experimental = {}\n",
    "experimental['A'] = []\n",
    "experimental['B'] = []\n",
    "\n",
    "for line in open('experiment.txt'):\n",
    "    line = line.strip().split(',')\n",
    "    condition = line[1]\n",
    "    \n",
    "    for i in range(2,6):\n",
    "        experimental[ condition ].append( float( line[i] ) )\n",
    "        \n",
    "## means\n",
    "\n",
    "print(\"Mean for A\", mean( experimental['A'] ) )"
   ]
  },
  {
   "cell_type": "code",
   "execution_count": null,
   "metadata": {},
   "outputs": [],
   "source": [
    "## 8.17\n",
    "\n",
    "def make_science_happen( index ):\n",
    "    \n",
    "    conditionA = 0\n",
    "    conditionB = 0\n",
    "    \n",
    "    for line in open('experiment.txt'):\n",
    "        line = line.strip().split(',')\n",
    "        condition = line[1]\n",
    "        experimental_value = float( line[1+index] ) ## index 0 is for username, index 1 is for condition, thus starting from that\n",
    "        \n",
    "        if condition == 'A':\n",
    "            conditionA = conditionA + experimental_value\n",
    "        if condition == 'B':\n",
    "            conditionB = conditionB + experimental_value\n",
    "        \n",
    "    if conditionA - conditionB > 1:\n",
    "        return True\n",
    "        \n",
    "    return False\n",
    "\n",
    "make_science_happen( 1 )"
   ]
  },
  {
   "cell_type": "code",
   "execution_count": null,
   "metadata": {},
   "outputs": [],
   "source": []
  }
 ],
 "metadata": {
  "kernelspec": {
   "display_name": "Python 3",
   "language": "python",
   "name": "python3"
  },
  "language_info": {
   "codemirror_mode": {
    "name": "ipython",
    "version": 3
   },
   "file_extension": ".py",
   "mimetype": "text/x-python",
   "name": "python",
   "nbconvert_exporter": "python",
   "pygments_lexer": "ipython3"
  }
 },
 "nbformat": 4,
 "nbformat_minor": 4
}
