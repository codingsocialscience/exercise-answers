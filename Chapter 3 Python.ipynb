{
 "cells": [
  {
   "cell_type": "code",
   "execution_count": null,
   "metadata": {},
   "outputs": [],
   "source": [
    "## 3.12\n",
    "\n",
    "governor = 0\n",
    "win = 0\n",
    "president = 0\n",
    "\n",
    "for line in open('candidates_tweets.txt'):\n",
    "    line = line.lower()\n",
    "    line = line.replace(',', ' ') ## removing dots, periods to clean up the data a bit, but this is not extensive\n",
    "    line = line.replace('.', ' ')\n",
    "    for word in line.split(' '):\n",
    "        if word == 'governor': ## depending how much is required, \n",
    "            governor = governor + 1\n",
    "        if word == 'win':\n",
    "            win = win + 1\n",
    "        if word == 'president':\n",
    "            president = president + 1\n",
    "            \n",
    "print( governor, win, president )"
   ]
  },
  {
   "cell_type": "code",
   "execution_count": null,
   "metadata": {},
   "outputs": [],
   "source": [
    "## 3.13\n",
    "\n",
    "for line in open('candidates_tweets.txt'):\n",
    "    line = line.lower()\n",
    "    line = line.replace(',', ' ') ## removing dots, periods to clean up the data a bit, but this is not extensive\n",
    "    line = line.replace('.', ' ')\n",
    "    \n",
    "    governor = 0\n",
    "    win = 0\n",
    "    president = 0\n",
    "    \n",
    "    for word in line.split(' '):\n",
    "        if word == 'governor': ## depending how much is required, \n",
    "            governor = governor + 1\n",
    "        if word == 'win':\n",
    "            win = win + 1\n",
    "        if word == 'president':\n",
    "            president = president + 1\n",
    "    print( \"governor\", governor, \"times,\", \"win\", win, \"times,\", \"president\", president, \"times\" )"
   ]
  },
  {
   "cell_type": "code",
   "execution_count": null,
   "metadata": {},
   "outputs": [],
   "source": [
    "## 3.14\n",
    "\n",
    "suitable_cases = 0\n",
    "\n",
    "for original_line in open('candidates_tweets.txt'):\n",
    "    line = original_line.lower()\n",
    "    line = line.replace(',', ' ') ## removing dots, periods to clean up the data a bit, but this is not extensive\n",
    "    line = line.replace('.', ' ')\n",
    "    \n",
    "    governor = 0\n",
    "    win = 0\n",
    "    president = 0\n",
    "    \n",
    "    for word in line.split(' '):\n",
    "        if word == 'governor': ## depending how much is required, \n",
    "            governor = governor + 1\n",
    "        if word == 'win':\n",
    "            win = win + 1\n",
    "        if word == 'president':\n",
    "            president = president + 1\n",
    "            \n",
    "    if governor >= 1 and president >= 1:\n",
    "        suitable_cases = suitable_cases + 1\n",
    "        print( original_line )\n",
    "        \n",
    "print(\"Total of\", suitable_cases )"
   ]
  },
  {
   "cell_type": "code",
   "execution_count": null,
   "metadata": {},
   "outputs": [],
   "source": [
    "## 3.15\n",
    "\n",
    "candidate_comments = 0 ## two gatherer variables\n",
    "other_comments = 0\n",
    "\n",
    "for line in open('twitter-conversation.txt'):\n",
    "    line = line.strip()\n",
    "    line = line.split(',')\n",
    "    day = line[0].replace('Day', '')\n",
    "    day = float( day )\n",
    "    if day < 30:\n",
    "        if line[1] == 'hansjohansson' or line[1] == 'evapersson':\n",
    "            candidate_comments = candidate_comments + 1\n",
    "        else:\n",
    "            other_comments = other_comments + 1\n",
    "\n",
    "if candidate_comments > 2 and other_comments > 1:\n",
    "    print(\"Discussion qualifies\")"
   ]
  },
  {
   "cell_type": "code",
   "execution_count": null,
   "metadata": {},
   "outputs": [],
   "source": [
    "## 3.16\n",
    "\n",
    "for line in open('racism-slur.txt'):\n",
    "    line = line.strip()\n",
    "    line = line.split(',')\n",
    "    \n",
    "    offensive_behaviour = float( line[1] )\n",
    "    white_men = line[2]\n",
    "    friends = line[3]\n",
    "    \n",
    "    if offensive_behaviour > 0: ## the person posting the message had a history of o ensive behaviour\n",
    "        if white_men == 'True': ## its poster was a white man\n",
    "            if friends == 'False': ## the poster and the target of the racist slur were not friends\n",
    "                if 'n****r' in line[0]: ## the message contained a racist slur\n",
    "                    if '@' in line[0]: ## the message was a reply to another user\n",
    "                        print( line )"
   ]
  },
  {
   "cell_type": "code",
   "execution_count": null,
   "metadata": {},
   "outputs": [],
   "source": []
  }
 ],
 "metadata": {
  "kernelspec": {
   "display_name": "Python 3",
   "language": "python",
   "name": "python3"
  },
  "language_info": {
   "codemirror_mode": {
    "name": "ipython",
    "version": 3
   },
   "file_extension": ".py",
   "mimetype": "text/x-python",
   "name": "python",
   "nbconvert_exporter": "python",
   "pygments_lexer": "ipython3",
   "version": "3.9.13"
  }
 },
 "nbformat": 4,
 "nbformat_minor": 4
}
