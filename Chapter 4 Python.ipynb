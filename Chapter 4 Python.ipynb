{
 "cells": [
  {
   "cell_type": "code",
   "execution_count": null,
   "metadata": {},
   "outputs": [],
   "source": [
    "## 4.8\n",
    "\n",
    "degree = 0 ## gatherer for degree\n",
    "node_interested = 'A'\n",
    "\n",
    "for line in open('network.txt'):\n",
    "    line = line.strip()\n",
    "    line = line.split('-')\n",
    "    \n",
    "    if line[0] == node_interested or line[1] == node_interested:\n",
    "        degree = degree + 1\n",
    "        \n",
    "print( 'Degree for', node_interested, 'is', degree )"
   ]
  },
  {
   "cell_type": "code",
   "execution_count": null,
   "metadata": {},
   "outputs": [],
   "source": [
    "## 4.9\n",
    "\n",
    "in_degree = 0 ## gatherer for degrees\n",
    "out_degree = 0\n",
    "node_interested = 'A'\n",
    "\n",
    "for line in open('directed_network.txt'):\n",
    "    line = line.strip()\n",
    "    line = line.split('->')\n",
    "    \n",
    "    if line[0] == node_interested:\n",
    "        out_degree = out_degree + 1\n",
    "        \n",
    "    if line[1] == node_interested:\n",
    "        in_degree = in_degree + 1\n",
    "        \n",
    "print( 'Out degree for', node_interested, 'is', out_degree )\n",
    "print( 'In degree for', node_interested, 'is', in_degree )"
   ]
  },
  {
   "cell_type": "code",
   "execution_count": null,
   "metadata": {},
   "outputs": [],
   "source": [
    "## 4.10\n",
    "\n",
    "## key observation: degree is actually the column sum on the matrix\n",
    "\n",
    "degree = 0 ## gatherer\n",
    "node_interested = 1 ## this is the index location of the colum we are interested in\n",
    "\n",
    "for line in open('adjacency_matrix.txt'):\n",
    "    line = line.strip()\n",
    "    print( line )\n",
    "    line = line.split(',')\n",
    "    print( line[ node_interested - 1 ] )\n",
    "    degree = degree + float( line[ node_interested - 1 ] )\n",
    "\n",
    "print( degree )"
   ]
  },
  {
   "cell_type": "code",
   "execution_count": null,
   "metadata": {},
   "outputs": [],
   "source": []
  }
 ],
 "metadata": {
  "kernelspec": {
   "display_name": "Python 3",
   "language": "python",
   "name": "python3"
  },
  "language_info": {
   "codemirror_mode": {
    "name": "ipython",
    "version": 3
   },
   "file_extension": ".py",
   "mimetype": "text/x-python",
   "name": "python",
   "nbconvert_exporter": "python",
   "pygments_lexer": "ipython3"
  }
 },
 "nbformat": 4,
 "nbformat_minor": 4
}
